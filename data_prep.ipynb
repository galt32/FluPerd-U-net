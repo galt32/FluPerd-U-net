{
 "cells": [
  {
   "cell_type": "code",
   "execution_count": null,
   "metadata": {},
   "outputs": [],
   "source": [
    "from skimage.io import imread\n",
    "import re\n",
    "import glob\n",
    "\n",
    "r = re.compile(r'JW112-PC9-DPC_(\\d+)')"
   ]
  },
  {
   "cell_type": "code",
   "execution_count": null,
   "metadata": {},
   "outputs": [],
   "source": [
    "PATH = '/Users/nk/Documents/JW112-PC9-DPC/'\n",
    "\n",
    "for filename in sorted(glob.glob(PATH +'*.tiff'), key=lambda x: int(r.search(x).group(1))):\n",
    "    image = imread (PATH + filename)\n",
    "    nrows, ncols = image.shape\n",
    "    image_splitted = []\n",
    "    \n",
    "    rsplit, csplit = nrows // 3, ncols // 3\n",
    "\n",
    "    quadrants = [\n",
    "    image[0:538, :csplit],\n",
    "    image[:rsplit, csplit:],\n",
    "    image[rsplit:, :csplit],\n",
    "    image[rsplit:, csplit:],\n",
    "    ]\n",
    "\n",
    "    "
   ]
  }
 ],
 "metadata": {
  "interpreter": {
   "hash": "f56487b19935ece8faebd16ed4ec352f8a90eae23818ae72ba2a3d2a2a10c3e4"
  },
  "kernelspec": {
   "display_name": "Python 3.9.10 ('SciEnv')",
   "language": "python",
   "name": "python3"
  },
  "language_info": {
   "name": "python",
   "version": "3.9.10"
  },
  "orig_nbformat": 4
 },
 "nbformat": 4,
 "nbformat_minor": 2
}
